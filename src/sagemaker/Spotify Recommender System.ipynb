{
 "cells": [
  {
   "attachments": {},
   "cell_type": "markdown",
   "metadata": {},
   "source": [
    "# Building Recommender System with Spotify Data"
   ]
  },
  {
   "attachments": {},
   "cell_type": "markdown",
   "metadata": {},
   "source": [
    "### Import Libraries"
   ]
  },
  {
   "cell_type": "code",
   "execution_count": null,
   "metadata": {},
   "outputs": [],
   "source": [
    "import numpy as np\n",
    "import pandas as pd\n",
    "import matplotlib.pyplot as plt\n",
    "import spotipy\n",
    "import os\n",
    "import plotly.express as px\n",
    "from sklearn.cluster import KMeans\n",
    "from sklearn.preprocessing import StandardScaler\n",
    "from sklearn.pipeline import Pipeline\n",
    "from sklearn.manifold import TSNE\n",
    "from sklearn.decomposition import PCA\n",
    "from sklearn.metrics import silhouette_score\n",
    "from spotipy.oauth2 import SpotifyClientCredentials\n",
    "from collections import defaultdict\n",
    "from collections import defaultdict\n",
    "from scipy.spatial.distance import cdist"
   ]
  },
  {
   "attachments": {},
   "cell_type": "markdown",
   "metadata": {},
   "source": [
    "## Mainpulating Spotify Dataset"
   ]
  },
  {
   "attachments": {},
   "cell_type": "markdown",
   "metadata": {},
   "source": [
    "### Reading the Data"
   ]
  },
  {
   "cell_type": "code",
   "execution_count": null,
   "metadata": {},
   "outputs": [],
   "source": [
    "spotify_data = pd.read_csv('./data/charts_with_audio_features.csv')\n",
    "spotify_data.head(5)"
   ]
  },
  {
   "cell_type": "code",
   "execution_count": null,
   "metadata": {},
   "outputs": [],
   "source": [
    "spotify_data.info()"
   ]
  },
  {
   "attachments": {},
   "cell_type": "markdown",
   "metadata": {},
   "source": [
    "### Clustering Songs using K-Means"
   ]
  },
  {
   "cell_type": "code",
   "execution_count": null,
   "metadata": {},
   "outputs": [],
   "source": [
    "# Remove rows with invalid values\n",
    "spotify_data.dropna(inplace=True)\n",
    "\n",
    "cluster_pipeline = Pipeline([('scaler', StandardScaler()), \n",
    "                                  ('kmeans', KMeans(n_clusters=5, verbose=2))], verbose=True)\n",
    "\n",
    "# Select a subset of columns to use in the clustering process\n",
    "columns_to_use = ['danceability', 'energy', 'acousticness', 'instrumentalness', 'valence', 'tempo']  \n",
    "X = spotify_data[columns_to_use]\n",
    "\n",
    "# Fit the model based on spotify data\n",
    "cluster_pipeline.fit(X)"
   ]
  },
  {
   "attachments": {},
   "cell_type": "markdown",
   "metadata": {},
   "source": [
    "### Add Cluster Labels to Songs"
   ]
  },
  {
   "cell_type": "code",
   "execution_count": null,
   "metadata": {},
   "outputs": [],
   "source": [
    "# Predict what cluster each song belongs to\n",
    "cluster_labels = cluster_pipeline.predict(X)\n",
    "\n",
    "# Add cluster labels as a final column to spotify data\n",
    "spotify_data['cluster_label'] = cluster_labels\n",
    "spotify_data.head(5)"
   ]
  },
  {
   "attachments": {},
   "cell_type": "markdown",
   "metadata": {},
   "source": [
    "### Visualize Song Clusters with PCA"
   ]
  },
  {
   "cell_type": "code",
   "execution_count": null,
   "metadata": {},
   "outputs": [],
   "source": [
    "# PCA for dimension reduction (faster than t-SNE)\n",
    "pca_pipeline = Pipeline([('scaler', StandardScaler()), ('PCA', PCA(n_components=2))])\n",
    "song_embedding = pca_pipeline.fit_transform(X)\n",
    "\n",
    "projection = pd.DataFrame(columns=['x', 'y'], data=song_embedding)\n",
    "projection['title'] = spotify_data['name']\n",
    "projection['cluster'] = spotify_data['cluster_label']"
   ]
  },
  {
   "cell_type": "code",
   "execution_count": null,
   "metadata": {},
   "outputs": [],
   "source": [
    "# Visualize song clusters in a 2D space\n",
    "fig = px.scatter(\n",
    "    projection, x='x', y='y', color='cluster', hover_data=['x', 'y', 'title'])\n",
    "fig.show()"
   ]
  },
  {
   "attachments": {},
   "cell_type": "markdown",
   "metadata": {},
   "source": [
    "## Building Content-Based Recommender System"
   ]
  },
  {
   "attachments": {},
   "cell_type": "markdown",
   "metadata": {},
   "source": [
    "### Utility Functions"
   ]
  },
  {
   "cell_type": "code",
   "execution_count": null,
   "metadata": {},
   "outputs": [],
   "source": [
    "# Establish spotipy connection\n",
    "sp = spotipy.Spotify(auth_manager=SpotifyClientCredentials(client_id=os.environ[\"SPOTIFY_CLIENT_ID\"],\n",
    "                                                           client_secret=os.environ[\"SPOTIFY_CLIENT_SECRET\"]))\n",
    "\n",
    "# Returns a dataframe with data for a song given the name and release year.\n",
    "# Uses Spotipy to fetch audio features and metadata for the specified song.\n",
    "def find_song(name, year):\n",
    "    \n",
    "    song_data = defaultdict()\n",
    "    results = sp.search(q= 'track: {} year: {}'.format(name,\n",
    "                                                       year), limit=1)\n",
    "    if results['tracks']['items'] == []:\n",
    "        return None\n",
    "    \n",
    "    results = results['tracks']['items'][0]\n",
    "\n",
    "    track_id = results['id']\n",
    "    audio_features = sp.audio_features(track_id)[0]\n",
    "    \n",
    "    song_data['name'] = [name]\n",
    "    song_data['year'] = [year]\n",
    "    song_data['explicit'] = [int(results['explicit'])]\n",
    "    song_data['duration_ms'] = [results['duration_ms']]\n",
    "    song_data['popularity'] = [results['popularity']]\n",
    "    \n",
    "    for key, value in audio_features.items():\n",
    "        song_data[key] = value\n",
    "    \n",
    "    return pd.DataFrame(song_data)"
   ]
  },
  {
   "cell_type": "code",
   "execution_count": null,
   "metadata": {},
   "outputs": [],
   "source": [
    "# Gets the song data for a specific song\n",
    "# Song argument is a dictionary with key-value pairs for the name and release year\n",
    "def get_song_data(song, spotify_data):\n",
    "    \n",
    "    # Check if song is in the spotify dataset, otherwise use find_song method\n",
    "    try:\n",
    "        song_data = spotify_data[(spotify_data['name'] == song['name']) \n",
    "                                & (spotify_data['year'] == song['year'])].iloc[0]\n",
    "        return song_data\n",
    "    except IndexError:\n",
    "        return find_song(song['name'], song['year'])"
   ]
  },
  {
   "cell_type": "code",
   "execution_count": null,
   "metadata": {},
   "outputs": [],
   "source": [
    "# Calculates mean vector from a list of songs based on audio/metadata features\n",
    "def get_mean_vector(song_list, spotify_data):\n",
    "    \n",
    "    song_vectors = []\n",
    "    \n",
    "    # Add all songs to song_vectors\n",
    "    for song in song_list:\n",
    "        song_data = get_song_data(song, spotify_data)\n",
    "        if song_data is None:\n",
    "            print('Warning: {} does not exist in Spotify or in database'.format(song['name']))\n",
    "            continue\n",
    "        song_vector = song_data[columns_to_use].values\n",
    "        song_vectors.append(song_vector)\n",
    "    \n",
    "    # Convert to numpy array then use np.mean\n",
    "    song_matrix = np.array(list(song_vectors))\n",
    "    return np.mean(song_matrix, axis=0)"
   ]
  },
  {
   "cell_type": "code",
   "execution_count": null,
   "metadata": {},
   "outputs": [],
   "source": [
    "# Flattens a list of dictionaries.\n",
    "def flatten_dict_list(dict_list):\n",
    "    \n",
    "    flattened_dict = defaultdict()\n",
    "    for key in dict_list[0].keys():\n",
    "        flattened_dict[key] = []\n",
    "    \n",
    "    for dictionary in dict_list:\n",
    "        for key, value in dictionary.items():\n",
    "            flattened_dict[key].append(value)\n",
    "            \n",
    "    return flattened_dict"
   ]
  },
  {
   "attachments": {},
   "cell_type": "markdown",
   "metadata": {},
   "source": [
    "### Recommender Function"
   ]
  },
  {
   "cell_type": "code",
   "execution_count": null,
   "metadata": {},
   "outputs": [],
   "source": [
    "# Recommends songs based on a list of previous songs that a user has listened to.\n",
    "def recommend_songs(song_list, spotify_data, n_songs=10):\n",
    "    \n",
    "    # Compute average vector of input songs\n",
    "    song_center = get_mean_vector(song_list, spotify_data)\n",
    "    scaler = cluster_pipeline.steps[0][1]\n",
    "    scaled_data = scaler.transform(spotify_data[columns_to_use])\n",
    "    scaled_song_center = scaler.transform(song_center.reshape(1, -1))\n",
    "\n",
    "    # Find closest songs in dataset to the average vector using cosine distance\n",
    "    distances = cdist(scaled_song_center, scaled_data, 'cosine')\n",
    "    index = list(np.argsort(distances)[:, :n_songs][0])\n",
    "    \n",
    "    # Recommend corresponding songs from the dataset\n",
    "    rec_songs = spotify_data.iloc[index]\n",
    "    song_dict = flatten_dict_list(song_list)\n",
    "    rec_songs = rec_songs[~rec_songs['name'].isin(song_dict['name'])]\n",
    "\n",
    "    # Format output\n",
    "    metadata_cols = ['name', 'year', 'artists']\n",
    "    return rec_songs[metadata_cols].to_dict(orient='records')\n"
   ]
  },
  {
   "attachments": {},
   "cell_type": "markdown",
   "metadata": {},
   "source": [
    "## Testing Recommender"
   ]
  },
  {
   "cell_type": "code",
   "execution_count": null,
   "metadata": {},
   "outputs": [],
   "source": [
    "recommend_songs([{'name': 'HiTek Tek', 'year': 2020},\n",
    "                {'name': 'Ridin Strikers', 'year': 2020},\n",
    "                {'name': 'One Of My', 'year': 2020},\n",
    "                {'name': 'Hard To Choose One', 'year': 2020},\n",
    "                {'name': 'Touch The Sky', 'year': 2020},\n",
    "                {'name': 'Solitaires (feat. Travis Scott)', 'year': 2020},\n",
    "                {'name': 'Harlem Shake (feat. Young Thug)', 'year': 2020}], spotify_data, 15)"
   ]
  }
 ],
 "metadata": {
  "kernelspec": {
   "display_name": "Python 3",
   "language": "python",
   "name": "python3"
  },
  "language_info": {
   "codemirror_mode": {
    "name": "ipython",
    "version": 3
   },
   "file_extension": ".py",
   "mimetype": "text/x-python",
   "name": "python",
   "nbconvert_exporter": "python",
   "pygments_lexer": "ipython3",
   "version": "3.10.2"
  },
  "vscode": {
   "interpreter": {
    "hash": "44a9cdcbdccbf05a880e90d2e6fe72470baab4d1b82472d890be0596ed887a6b"
   }
  }
 },
 "nbformat": 4,
 "nbformat_minor": 4
}
